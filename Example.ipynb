{
 "cells": [
  {
   "cell_type": "code",
   "execution_count": null,
   "id": "279fe64a-6ea0-4f69-a5e8-2c17be535137",
   "metadata": {
    "tags": []
   },
   "outputs": [],
   "source": [
    "%load_ext autoreload\n",
    "%autoreload 2"
   ]
  },
  {
   "cell_type": "code",
   "execution_count": null,
   "id": "a73240f3-b3cd-43ae-8470-1fcc838350ef",
   "metadata": {
    "tags": []
   },
   "outputs": [],
   "source": [
    "from remix import Remix"
   ]
  },
  {
   "cell_type": "code",
   "execution_count": null,
   "id": "3f411f26-2443-4a58-9ad7-3e7151ea6cee",
   "metadata": {
    "tags": []
   },
   "outputs": [],
   "source": [
    "name1 = 'assets/lord_of_the_rings_meme.jpg'\n",
    "name2 = 'assets/mike_wazowski_meme.jpg'\n",
    "remix = Remix()\n",
    "img = remix(name1, name2)\n",
    "img.save('mixed.jpg')\n",
    "img"
   ]
  },
  {
   "cell_type": "code",
   "execution_count": null,
   "id": "489f8e35-8d11-486a-ace4-e516f2e4a5e6",
   "metadata": {
    "tags": []
   },
   "outputs": [],
   "source": []
  }
 ],
 "metadata": {
  "kernelspec": {
   "display_name": "Python 3 (ipykernel)",
   "language": "python",
   "name": "python3"
  },
  "language_info": {
   "codemirror_mode": {
    "name": "ipython",
    "version": 3
   },
   "file_extension": ".py",
   "mimetype": "text/x-python",
   "name": "python",
   "nbconvert_exporter": "python",
   "pygments_lexer": "ipython3",
   "version": "3.11.3"
  }
 },
 "nbformat": 4,
 "nbformat_minor": 5
}
